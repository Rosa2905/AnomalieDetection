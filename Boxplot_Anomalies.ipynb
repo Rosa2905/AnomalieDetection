{
 "cells": [
  {
   "cell_type": "code",
   "execution_count": 8,
   "metadata": {},
   "outputs": [],
   "source": [
    "import matplotlib.pyplot as plt\n",
    "import numpy as np\n",
    "compras_mes = np.array([1,2,1,20,1,0,3,2,3,0,5,3,2,1,0,1,2,2,2])\n",
    "salario_anual_miles = np.array([16,20,15,21,19,17,33,22,31,32,56,30,22,31,30,16,2,22,23])\n",
    "edades = np.array([22,22,23,23,23,23,26,27,27,28,30,30,30,30,31,32,33,34,80])"
   ]
  },
  {
   "cell_type": "code",
   "execution_count": 6,
   "metadata": {},
   "outputs": [
    {
     "name": "stdout",
     "output_type": "stream",
     "text": [
      "\n",
      "X predictions:  [0 0 0 1 0 0 0 0 0 0 1 0 0 0 0 0 1 0 1]\n",
      "\n",
      "X labels predictions [0 0 0 1 0 0 0 0 0 0 1 0 0 0 0 0 1 0 1]\n",
      "\n",
      "X anomalous scores [ 7.87400787  5.38516481  8.1240384  19.67231557  5.09901951  6.70820393\n",
      "  6.55743852  7.          5.09901951  4.12310563 26.07680962  5.\n",
      "  8.06225775  4.89897949  6.55743852  9.11043358 19.74841766  9.\n",
      " 50.49752469]\n"
     ]
    },
    {
     "data": {
      "text/html": [
       "<div>\n",
       "<style scoped>\n",
       "    .dataframe tbody tr th:only-of-type {\n",
       "        vertical-align: middle;\n",
       "    }\n",
       "\n",
       "    .dataframe tbody tr th {\n",
       "        vertical-align: top;\n",
       "    }\n",
       "\n",
       "    .dataframe thead th {\n",
       "        text-align: right;\n",
       "    }\n",
       "</style>\n",
       "<table border=\"1\" class=\"dataframe\">\n",
       "  <thead>\n",
       "    <tr style=\"text-align: right;\">\n",
       "      <th></th>\n",
       "      <th>edad</th>\n",
       "      <th>salario</th>\n",
       "      <th>compras</th>\n",
       "    </tr>\n",
       "  </thead>\n",
       "  <tbody>\n",
       "    <tr>\n",
       "      <th>3</th>\n",
       "      <td>23</td>\n",
       "      <td>21</td>\n",
       "      <td>20</td>\n",
       "    </tr>\n",
       "    <tr>\n",
       "      <th>10</th>\n",
       "      <td>30</td>\n",
       "      <td>56</td>\n",
       "      <td>5</td>\n",
       "    </tr>\n",
       "    <tr>\n",
       "      <th>16</th>\n",
       "      <td>33</td>\n",
       "      <td>2</td>\n",
       "      <td>2</td>\n",
       "    </tr>\n",
       "    <tr>\n",
       "      <th>18</th>\n",
       "      <td>80</td>\n",
       "      <td>23</td>\n",
       "      <td>2</td>\n",
       "    </tr>\n",
       "  </tbody>\n",
       "</table>\n",
       "</div>"
      ],
      "text/plain": [
       "    edad  salario  compras\n",
       "3     23       21       20\n",
       "10    30       56        5\n",
       "16    33        2        2\n",
       "18    80       23        2"
      ]
     },
     "execution_count": 6,
     "metadata": {},
     "output_type": "execute_result"
    }
   ],
   "source": [
    "\n",
    "from pyod.models.knn import KNN\n",
    "import pandas as pd\n",
    " \n",
    "X = pd.DataFrame(data={'edad':edades,'salario':salario_anual_miles, 'compras':compras_mes})\n",
    " \n",
    "clf = KNN(contamination=0.18)\n",
    "clf.fit(X)\n",
    "x_pred = clf.predict(X)\n",
    "x_labels = clf.labels_ # binary labels (0: inliers, 1: outliers) \n",
    "x_anomalies_scores = clf.decision_scores_ \n",
    "\n",
    "print(\"\\nX predictions: \", x_pred)\n",
    "print(\"\\nX labels predictions\",x_labels)\n",
    "print(\"\\nX anomalous scores\",x_anomalies_scores)\n",
    "\n",
    "X[x_pred == 1]"
   ]
  },
  {
   "cell_type": "code",
   "execution_count": 13,
   "metadata": {},
   "outputs": [
    {
     "data": {
      "image/png": "[encoded data removed]",
      "text/plain": [
       "<Figure size 2160x1440 with 15 Axes>"
      ]
     },
     "metadata": {
      "needs_background": "light"
     },
     "output_type": "display_data"
    }
   ],
   "source": [
    "x = X\n",
    "x.iloc[:,:3].plot(kind='box', subplots=True, layout=(3,5), sharex=False, sharey=False,figsize=(30,20))\n",
    "plt.show()"
   ]
  },
  {
   "cell_type": "code",
   "execution_count": 9,
   "metadata": {},
   "outputs": [
    {
     "data": {
      "text/plain": [
       "{'whiskers': [<matplotlib.lines.Line2D at 0x1808e17f790>,\n",
       "  <matplotlib.lines.Line2D at 0x1808e17faf0>],\n",
       " 'caps': [<matplotlib.lines.Line2D at 0x1808e17fe50>,\n",
       "  <matplotlib.lines.Line2D at 0x1808d5581f0>],\n",
       " 'boxes': [<matplotlib.lines.Line2D at 0x1808e17f430>],\n",
       " 'medians': [<matplotlib.lines.Line2D at 0x1808d558550>],\n",
       " 'fliers': [<matplotlib.lines.Line2D at 0x1808d5588b0>],\n",
       " 'means': []}"
      ]
     },
     "execution_count": 9,
     "metadata": {},
     "output_type": "execute_result"
    },
    {
     "data": {
      "image/png": "[encoded data removed]",
      "text/plain": [
       "<Figure size 432x288 with 1 Axes>"
      ]
     },
     "metadata": {
      "needs_background": "light"
     },
     "output_type": "display_data"
    }
   ],
   "source": [
    "#other option to boxplot\n",
    "\n",
    "green_diamond = dict(markerfacecolor='g', marker='D')\n",
    "fig, ax = plt.subplots()\n",
    "ax.set_title('Boxplot por Edades')\n",
    "ax.boxplot(edades, flierprops=green_diamond, labels=[\"Edad\"])"
   ]
  }
 ],
 "metadata": {
  "kernelspec": {
   "display_name": "Python 3",
   "language": "python",
   "name": "python3"
  },
  "language_info": {
   "codemirror_mode": {
    "name": "ipython",
    "version": 3
   },
   "file_extension": ".py",
   "mimetype": "text/x-python",
   "name": "python",
   "nbconvert_exporter": "python",
   "pygments_lexer": "ipython3",
   "version": "3.8.5"
  }
 },
 "nbformat": 4,
 "nbformat_minor": 4
}
